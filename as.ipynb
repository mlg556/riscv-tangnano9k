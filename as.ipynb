{
 "cells": [
  {
   "cell_type": "code",
   "execution_count": 6,
   "metadata": {},
   "outputs": [
    {
     "name": "stdout",
     "output_type": "stream",
     "text": [
      "\n",
      "blinker.elf:     file format elf32-littleriscv\n",
      "\n",
      "\n",
      "Disassembly of section everything:\n",
      "\n",
      "00000000 <start>:\n",
      "   0:\t00000513          \tli\ta0,0\n",
      "   4:\t00100593          \tli\ta1,1\n",
      "   8:\t00200613          \tli\ta2,2\n",
      "\n",
      "0000000c <loop>:\n",
      "   c:\t00150513          \taddi\ta0,a0,1\n",
      "  10:\t00258593          \taddi\ta1,a1,2\n",
      "  14:\t00360613          \taddi\ta2,a2,3\n",
      "  18:\tff5ff06f          \tj\tc <loop>\n",
      "\n"
     ]
    }
   ],
   "source": [
    "# riscv32-unknown-elf\n",
    "# assemble: riscv32-unknown-elf-as -march=rv32i -mabi=ilp32 -mno-relax blinker.s -o blinker.o\n",
    "# link: riscv32-unknown-elf-ld -S blinker.o -o blinker.bram.elf -T bram.ld -m elf32lriscv -nostdlib --no-relax\n",
    "# tohex: riscv32-unknown-elf-elf2hex --bit-width 32 --input blinker.elf --output blinker.hex\n",
    "# dump: riscv32-unknown-elf-objdump -S blinker.o \n",
    "\n",
    "\n",
    "from sys import argv\n",
    "from subprocess import check_output\n",
    "\n",
    "LD = \"bram.ld\"\n",
    "\n",
    "fname = argv[1]\n",
    "# fname = \"blinker.s\"\n",
    "fname_woext = fname.split(\".\")[0]\n",
    "fname_o = fname_woext + \".o\"\n",
    "fname_elf = fname_woext + \".elf\"\n",
    "fname_hex = fname_woext + \"_ascii.hex\"\n",
    "\n",
    "# assemble\n",
    "# riscv32-unknown-elf-as -march=rv32i -mabi=ilp32 -mno-relax blinker.s -o blinker.o\n",
    "cmd_as = check_output(\n",
    "    [\"riscv32-unknown-elf-as\", \"-march=rv32i\", \"-mabi=ilp32\", \"-mno-relax\", fname, \"-o\", fname_o]\n",
    ")\n",
    "\n",
    "if cmd_as: print(cmd_as.decode())\n",
    "\n",
    "# link\n",
    "# riscv32-unknown-elf-ld -S blinker.o -o blinker.bram.elf -T bram.ld -m elf32lriscv -nostdlib --no-relax\n",
    "cmd_ld = check_output(\n",
    "    [\"riscv32-unknown-elf-ld\", \"-S\", fname_o, \"-o\", fname_elf, \"-T\", LD, \"-m\", \"elf32lriscv\", \"-nostdlib\", \"--no-relax\"]\n",
    ")\n",
    "\n",
    "if cmd_ld: print(cmd_ld.decode())\n",
    "\n",
    "# to hex\n",
    "# riscv32-unknown-elf-elf2hex --bit-width 32 --input blinker.elf --output blinker.hex\n",
    "cmd_hex = check_output(\n",
    "    [\"riscv32-unknown-elf-elf2hex\", \"--bit-width\", \"32\", \"--input\", fname_elf, \"--output\", fname_hex]\n",
    ")\n",
    "\n",
    "if cmd_hex: print(cmd_hex.decode())\n",
    "\n",
    "cmd_dump = check_output(\n",
    "    [\"riscv32-unknown-elf-objdump\", \"-S\", fname_elf]\n",
    ")\n",
    "\n",
    "if cmd_dump: print(cmd_dump.decode())\n",
    "\n",
    "\n"
   ]
  },
  {
   "cell_type": "code",
   "execution_count": null,
   "metadata": {},
   "outputs": [],
   "source": []
  }
 ],
 "metadata": {
  "kernelspec": {
   "display_name": "base",
   "language": "python",
   "name": "python3"
  },
  "language_info": {
   "codemirror_mode": {
    "name": "ipython",
    "version": 3
   },
   "file_extension": ".py",
   "mimetype": "text/x-python",
   "name": "python",
   "nbconvert_exporter": "python",
   "pygments_lexer": "ipython3",
   "version": "3.10.10"
  },
  "orig_nbformat": 4
 },
 "nbformat": 4,
 "nbformat_minor": 2
}
