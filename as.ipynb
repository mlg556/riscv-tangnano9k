{
 "cells": [
  {
   "cell_type": "code",
   "execution_count": 19,
   "metadata": {},
   "outputs": [
    {
     "data": {
      "text/plain": [
       "['13 05 00 00 93 05 10 00 13 06 20 00 13 05 15 00',\n",
       " '93 85 25 00 13 06 36 00 6F F0 5F FF']"
      ]
     },
     "execution_count": 19,
     "metadata": {},
     "output_type": "execute_result"
    }
   ],
   "source": [
    "# riscv32-unknown-elf\n",
    "# assemble: riscv32-unknown-elf-as -march=rv32i -mabi=ilp32 -mno-relax blinker.s -o blinker.o\n",
    "# link: riscv32-unknown-elf-ld -S blinker.o -o blinker.bram.elf -T bram.ld -m elf32lriscv -nostdlib --no-relax\n",
    "# tohex: riscv32-unknown-elf-objcopy -O verilog blinker.bram.elf blinker.v\n",
    "# dump: riscv32-unknown-elf-objdump -S blinker.o \n",
    "\n",
    "\n",
    "from sys import argv\n",
    "from subprocess import check_output\n",
    "\n",
    "LD = \"bram.ld\"\n",
    "\n",
    "# fname = argv[1]\n",
    "fname = \"blinker.s\"\n",
    "fname_woext = fname.split(\".\")[0]\n",
    "fname_o = fname_woext + \".o\"\n",
    "fname_elf = fname_woext + \".elf\"\n",
    "fname_v = fname_woext + \"_v.hex\"\n",
    "\n",
    "# assemble\n",
    "# riscv32-unknown-elf-as -march=rv32i -mabi=ilp32 -mno-relax blinker.s -o blinker.o\n",
    "cmd_as = check_output(\n",
    "    [\"riscv32-unknown-elf-as\", \"-march=rv32i\", \"-mabi=ilp32\", \"-mno-relax\", fname, \"-o\", fname_o]\n",
    ")\n",
    "\n",
    "if cmd_as: print(cmd_as.decode())\n",
    "\n",
    "# link\n",
    "# riscv32-unknown-elf-ld -S blinker.o -o blinker.bram.elf -T bram.ld -m elf32lriscv -nostdlib --no-relax\n",
    "cmd_ld = check_output(\n",
    "    [\"riscv32-unknown-elf-ld\", \"-S\", fname_o, \"-o\", fname_elf, \"-T\", LD]\n",
    ")\n",
    "\n",
    "if cmd_as: print(cmd_ld.decode())\n",
    "\n",
    "# convert to hex\n",
    "# riscv32-unknown-elf-objcopy -O verilog blinker.elf blinker.v\n",
    "cmd_copy = check_output(\n",
    "    [\"riscv32-unknown-elf-objcopy\", \"-O\", \"verilog\", fname_elf, fname_v]\n",
    ")\n",
    "\n",
    "code_hex = []\n",
    "\n",
    "with open(fname_v, \"r\") as f:\n",
    "    code_hex = f.readlines()\n",
    "\n",
    "\n",
    "code_hex = code_hex[1:]\n",
    "code_hex = [line.strip() for line in code_hex]\n",
    "code_hex\n"
   ]
  },
  {
   "cell_type": "code",
   "execution_count": null,
   "metadata": {},
   "outputs": [],
   "source": []
  }
 ],
 "metadata": {
  "kernelspec": {
   "display_name": "base",
   "language": "python",
   "name": "python3"
  },
  "language_info": {
   "codemirror_mode": {
    "name": "ipython",
    "version": 3
   },
   "file_extension": ".py",
   "mimetype": "text/x-python",
   "name": "python",
   "nbconvert_exporter": "python",
   "pygments_lexer": "ipython3",
   "version": "3.10.10"
  },
  "orig_nbformat": 4
 },
 "nbformat": 4,
 "nbformat_minor": 2
}
